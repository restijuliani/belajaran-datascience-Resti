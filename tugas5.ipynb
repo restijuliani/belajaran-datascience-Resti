{
  "nbformat": 4,
  "nbformat_minor": 0,
  "metadata": {
    "colab": {
      "provenance": []
    },
    "kernelspec": {
      "name": "python3",
      "display_name": "Python 3"
    },
    "language_info": {
      "name": "python"
    }
  },
  "cells": [
    {
      "cell_type": "code",
      "execution_count": null,
      "metadata": {
        "id": "YqtnQJoyqAgS"
      },
      "outputs": [],
      "source": [
        "\n",
        "import statistics\n",
        "import pandas as pd\n",
        "import numpy as np\n",
        "from scipy import stats \n"
      ]
    },
    {
      "cell_type": "code",
      "source": [
        "print(\"===A-xis====\")\n",
        "a = 20\n",
        "b = 300000\n",
        "c = 75000\n",
        "hasil = (a * b) + (a * c)\n",
        "print(\"maka pemgeluaran gaji + asuransi= \"  +str(hasil))\n",
        "print(\"====B-log===\")\n",
        "a = 14\n",
        "b = 360000\n",
        "c = 75000\n",
        "hasil = (a * b) + (a * c)\n",
        "print(\"maka pemgeluaran gaji + asuransi= \"  +str(hasil))\n",
        "print(\"=====C-in=====\")\n",
        "a = 28\n",
        "b = 475000\n",
        "c = 75000\n",
        "hasil = (a * b) + (a * c)\n",
        "print(\"maka pemgeluaran gaji + asuransi= \"  +str(hasil))\n",
        "print(\"====D-namic=====\")\n",
        "a = 42\n",
        "b = 580000\n",
        "c = 75000\n",
        "hasil = (a * b) + (a * c)\n",
        "print(\"maka pemgeluaran gaji + asuransi= \"  +str(hasil))\n",
        "print(\"====E-psilon=====\")\n",
        "a = 18\n",
        "b = 400000\n",
        "c = 75000\n",
        "hasil = (a * b) + (a * c)\n",
        "print(\"maka pemgeluaran gaji + asuransi= \"  +str(hasil))\n"
      ],
      "metadata": {
        "colab": {
          "base_uri": "https://localhost:8080/"
        },
        "id": "PriLKJJ3tmzR",
        "outputId": "6c686bd2-0787-41df-ba41-3942c48525e8"
      },
      "execution_count": null,
      "outputs": [
        {
          "output_type": "stream",
          "name": "stdout",
          "text": [
            "===A-xis====\n",
            "maka pemgeluaran gaji + asuransi= 7500000\n",
            "====B-log===\n",
            "maka pemgeluaran gaji + asuransi= 6090000\n",
            "=====C-in=====\n",
            "maka pemgeluaran gaji + asuransi= 15400000\n",
            "====D-namic=====\n",
            "maka pemgeluaran gaji + asuransi= 27510000\n",
            "====E-psilon=====\n",
            "maka pemgeluaran gaji + asuransi= 8550000\n"
          ]
        }
      ]
    },
    {
      "cell_type": "code",
      "source": [],
      "metadata": {
        "id": "hG4iMSZ_YVNv"
      },
      "execution_count": null,
      "outputs": []
    },
    {
      "cell_type": "code",
      "source": [
        "print(\"===soal2=====\")\n",
        "print(\"===A-xis====\")\n",
        "pajak = 0.03\n",
        "aset_a = 0.08\n",
        "aset_b = 0.04\n",
        "aset_c = 0.12\n",
        "aset_d = 0.11\n",
        "aset_e = 0.03\n",
        "laba_a = 32500000\n",
        "laba_b = 31000000\n",
        "laba_c = 42000000\n",
        "laba_d = 51500000\n",
        "laba_e = 27000000\n",
        "hasil = (laba_a * pajak) + ( aset_a *  280000000)\n",
        "print(\"maka total pajak dan utang adalah= \"  +str(hasil))\n",
        "print(\"===B-log====\")\n",
        "hasil = (laba_b * pajak) + ( aset_b *  310000000)\n",
        "print(\"maka total pajak dan utang adalah= \"  +str(hasil))\n",
        "print(\"===C-in====\")\n",
        "hasil = (pajak * laba_c) + ( aset_c * 420000000)\n",
        "print(\"maka total pajak dan utang adalah= \"  +str(hasil))\n",
        "print(\"===D-namic====\")\n",
        "hasil = (pajak * laba_d)  + ( aset_d * 550000000)\n",
        "print(\"maka total pajak dan utang adalah= \"  +str(hasil))\n",
        "print(\"===E-psilon====\")\n",
        "hasil = (pajak * laba_e) + ( aset_e * 340000000)\n",
        "print(\"maka total pajak dan utang adalah= \"  +str(hasil))\n",
        "import matplotlib.pyplot as plt\n",
        "# pe chart\n",
        "fig = plt.figure()\n",
        "ax = fig.add_axes([0,0,1,1])\n",
        "ax.axis('equal')\n",
        "nama =['A-xis', 'B-log', 'C-in', 'D-namic','E-psilon', ]\n",
        "hasil =[23375000.0, 13330000.0, 51660000.0 , 62045000.0, 11010000.0, ]\n",
        "c= ['red', 'green', 'blue']\n",
        "ax.pie(hasil,labels=nama,autopct='%1.2ff%%')\n",
        "plt.title(\"\")\n",
        "plt.show()\n",
        "\n",
        "\n",
        "import matplotlib.pyplot as plt\n",
        "fig = plt.figure()\n",
        "ax = fig.add_axes([0,0,1,1])\n",
        "nama =['A-xis', 'B-log', 'C-in', 'D-namic','E-psilon', ]\n",
        "hasil =[23375000.0, 13330000.0, 51660000.0 , 62045000.0, 11010000.0, ]\n",
        "c= ['red', 'green', 'blue']\n",
        "plt.title(\" perusahaan\")\n",
        "plt.bar(nama, hasil, color= c)\n",
        "plt.show()"
      ],
      "metadata": {
        "colab": {
          "base_uri": "https://localhost:8080/",
          "height": 845
        },
        "id": "O3K1iC5bYR5Y",
        "outputId": "1e7c4424-d7af-440a-af48-13d2354d28dc"
      },
      "execution_count": null,
      "outputs": [
        {
          "output_type": "stream",
          "name": "stdout",
          "text": [
            "===soal2=====\n",
            "===A-xis====\n",
            "maka total pajak dan utang adalah= 23375000.0\n",
            "===B-log====\n",
            "maka total pajak dan utang adalah= 13330000.0\n",
            "===C-in====\n",
            "maka total pajak dan utang adalah= 51660000.0\n",
            "===D-namic====\n",
            "maka total pajak dan utang adalah= 62045000.0\n",
            "===E-psilon====\n",
            "maka total pajak dan utang adalah= 11010000.0\n"
          ]
        },
        {
          "output_type": "display_data",
          "data": {
            "text/plain": [
              "<Figure size 432x288 with 1 Axes>"
            ],
            "image/png": "[encoded data removed]"
          },
          "metadata": {}
        },
        {
          "output_type": "display_data",
          "data": {
            "text/plain": [
              "<Figure size 432x288 with 1 Axes>"
            ],
            "image/png": "[encoded data removed]"
          },
          "metadata": {
            "needs_background": "light"
          }
        }
      ]
    },
    {
      "cell_type": "code",
      "source": [
        "print( \"====soal 3====\")\n",
        "scr_1 = 0.25\n",
        "scr_2 = 0.35\n",
        "aset_a = 280000000\n",
        "aset_b = 310000000\n",
        "aset_c = 420000000\n",
        "aset_d = 550000000\n",
        "aset_e =  340000000\n",
        "hasil = (scr_1 * 280000000)  \n",
        "print(\"maka hasil scr  adalah= \"  +str(hasil))\n",
        "hasil = (scr_2 *  310000000)  \n",
        "print(\"maka hasil scr  adalah= \"  +str(hasil))\n",
        "hasil = (scr_2 * 420000000)   \n",
        "print(\"maka hasil scr  adalah= \"  +str(hasil))\n",
        "hasil = (scr_2 * 550000000 )   \n",
        "print(\"maka hasil scr  adalah= \"  +str(hasil))\n",
        "hasil = (scr_2 * 340000000 )   \n",
        "print(\"maka hasil scr  adalah= \"  +str(hasil))\n",
        "\n",
        "import matplotlib.pyplot as plt\n",
        "# pe chart\n",
        "fig = plt.figure()\n",
        "ax = fig.add_axes([0,0,1,1])\n",
        "ax.axis('equal')\n",
        "nama =['A-xis', 'B-log', 'C-in', 'D-namic','E-psilon', ]\n",
        "hasil =[70000000.0, 108500000.0, 147000000.0, 192500000.0, 118999999.99999999, ]\n",
        "c= ['red', 'green', 'blue']\n",
        "ax.pie(hasil,labels=nama,autopct='%1.2ff%%')\n",
        "plt.title(\"\")\n",
        "plt.show()\n",
        "import matplotlib.pyplot as plt\n",
        "fig = plt.figure()\n",
        "ax = fig.add_axes([0,0,1,1])\n",
        "nama =['A-xis', 'B-log', 'C-in', 'D-namic','E-psilon', ]\n",
        "hasil = [70000000.0, 108500000.0, 147000000.0, 192500000.0, 118999999.99999999, ]\n",
        "c= ['red', 'green', 'blue']\n",
        "plt.title(\" perusahaan\")\n",
        "plt.bar(nama, hasil, color= c)\n",
        "plt.show()"
      ],
      "metadata": {
        "colab": {
          "base_uri": "https://localhost:8080/",
          "height": 758
        },
        "id": "YFCCUtfOd71-",
        "outputId": "36a9a560-7ded-4624-f7af-ec1c3e8fcaea"
      },
      "execution_count": null,
      "outputs": [
        {
          "output_type": "stream",
          "name": "stdout",
          "text": [
            "====soal 3====\n",
            "maka hasil scr  adalah= 70000000.0\n",
            "maka hasil scr  adalah= 108500000.0\n",
            "maka hasil scr  adalah= 147000000.0\n",
            "maka hasil scr  adalah= 192500000.0\n",
            "maka hasil scr  adalah= 118999999.99999999\n"
          ]
        },
        {
          "output_type": "display_data",
          "data": {
            "text/plain": [
              "<Figure size 432x288 with 1 Axes>"
            ],
            "image/png": "[encoded data removed]"
          },
          "metadata": {}
        },
        {
          "output_type": "display_data",
          "data": {
            "text/plain": [
              "<Figure size 432x288 with 1 Axes>"
            ],
            "image/png": "[encoded data removed]"
          },
          "metadata": {
            "needs_background": "light"
          }
        }
      ]
    },
    {
      "cell_type": "code",
      "source": [
        "print(\"===soal 4===\")\n",
        "a = 32500000\n",
        "b = 12\n",
        "hasil1 = (a * b)\n",
        "print(\"maka hasil semua laba = \"  +str(hasil1))\n",
        "a = 31000000\n",
        "hasil2  = (a * b)\n",
        "print(\"maka hasil semua laba = \"  +str(hasil2))\n",
        "a = 42000000\n",
        "hasil3 = (a * b)\n",
        "print(\"maka hasil semua laba = \"  +str(hasil3))\n",
        "a = 51500000\n",
        "hasil4 = (a * b)\n",
        "print(\"maka hasil semua laba = \"  +str(hasil4))\n",
        "a = 27000000\n",
        "hasil5 = (a * b)\n",
        "print(\"maka hasil semua laba = \"  +str(hasil5))\n",
        "\n",
        "\n",
        "\n"
      ],
      "metadata": {
        "colab": {
          "base_uri": "https://localhost:8080/"
        },
        "id": "atXAv5emjjQc",
        "outputId": "80de1b3d-4765-4857-ab83-c393eb3d03c3"
      },
      "execution_count": null,
      "outputs": [
        {
          "output_type": "stream",
          "name": "stdout",
          "text": [
            "===soal 4===\n",
            "maka hasil semua laba = 390000000\n",
            "maka hasil semua laba = 372000000\n",
            "maka hasil semua laba = 504000000\n",
            "maka hasil semua laba = 618000000\n",
            "maka hasil semua laba = 324000000\n"
          ]
        }
      ]
    },
    {
      "cell_type": "code",
      "source": [
        "print(\"===soal 5===\")\n",
        "laba_a = 32500000\n",
        "laba_b = 31000000\n",
        "laba_c = 42000000\n",
        "laba_d = 51500000\n",
        "laba_e = 27000000\n",
        "Axis = 20\n",
        "Blog = 14\n",
        "Cin =  28\n",
        "DNamic = 42\n",
        "Epsilon = 18\n",
        "scr_1 = 0.25\n",
        "scr_2 = 0.35\n",
        "aset_a = 280000000\n",
        "aset_b = 310000000\n",
        "aset_c = 420000000\n",
        "aset_d = 550000000\n",
        "aset_e =  340000000\n",
        "hasil1 =(32500000 * 12) -  0.25 * 280000000 - (7500000 * 12) - 23375000.0\n",
        "print(\"maka hasil semua  = \"  +str(hasil1))\n",
        "hasil2=( 31000000 * 12) -  0.35 * 310000000 - (6090000 * 12) - 13330000.0\n",
        "print(\"maka hasil semua  = \"  +str(hasil2))\n",
        "hasil3=(42000000 * 12) -  0.35 * 420000000 - ( 15400000* 12) - 51660000.0\n",
        "print(\"maka hasil semua  = \"  +str(hasil3))\n",
        "hasil4=(51500000 * 12) -  0.35 * 550000000  - ( 27510000 * 12) - 62045000.0\n",
        "print(\"maka hasil semua  = \"  +str(hasil4))\n",
        "hasil5=(27000000 * 12) -  0.35 * 340000000 - ( 8550000 * 12) - 11010000.0\n",
        "print(\"maka hasil semua  = \"  +str(hasil5))\n"
      ],
      "metadata": {
        "colab": {
          "base_uri": "https://localhost:8080/"
        },
        "id": "X_j3Lq1UmCcI",
        "outputId": "7774b485-3e28-4eb8-bdb1-d3e2407a6d3c"
      },
      "execution_count": null,
      "outputs": [
        {
          "output_type": "stream",
          "name": "stdout",
          "text": [
            "===soal 5===\n",
            "maka hasil semua  = 206625000.0\n",
            "maka hasil semua  = 177090000.0\n",
            "maka hasil semua  = 120540000.0\n",
            "maka hasil semua  = 33335000.0\n",
            "maka hasil semua  = 91390000.0\n"
          ]
        }
      ]
    }
  ]
}