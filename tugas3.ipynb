{
  "nbformat": 4,
  "nbformat_minor": 0,
  "metadata": {
    "colab": {
      "provenance": []
    },
    "kernelspec": {
      "name": "python3",
      "display_name": "Python 3"
    },
    "language_info": {
      "name": "python"
    }
  },
  "cells": [
    {
      "cell_type": "code",
      "execution_count": null,
      "metadata": {
        "id": "_U-555csfDd2"
      },
      "outputs": [],
      "source": [
        "import statistics\n",
        "import pandas as pd\n",
        "import numpy as np\n",
        "from scipy import stats \n"
      ]
    },
    {
      "cell_type": "code",
      "source": [
        "print(\"=== SOAL 1====\")\n",
        "print(\"====mengikuti ekstrakulikuler dikelas 10===\")\n",
        "a = 5\n",
        "b = 18\n",
        "c = 30\n",
        "d = 7\n",
        "e = 16\n",
        "f = 19\n",
        "g = 12\n",
        "hasil = (a + b) + (c + d) + (e + f) + ( g )\n",
        "print(\"maka yang mengikuti ekstrakulikuler adalah = \"  +str(hasil))"
      ],
      "metadata": {
        "colab": {
          "base_uri": "https://localhost:8080/"
        },
        "id": "6elvUsvEjXbf",
        "outputId": "497bf433-e52d-42aa-a27a-d0970cacce74"
      },
      "execution_count": null,
      "outputs": [
        {
          "output_type": "stream",
          "name": "stdout",
          "text": [
            "=== 01====\n",
            "====mengikuti ekstrakulikuler dikelas 10===\n",
            "maka yang mengikuti ekstrakulikuler adalah = 107\n"
          ]
        }
      ]
    },
    {
      "cell_type": "code",
      "source": [
        "import matplotlib.pyplot as plt"
      ],
      "metadata": {
        "id": "ZVgHE9YYlTew"
      },
      "execution_count": null,
      "outputs": []
    },
    {
      "cell_type": "code",
      "source": [
        "fig = plt.figure()\n",
        "ax = fig.add_axes([0,0,1,1])\n",
        "mengikuti = ['pakibra', 'PMR', 'pramuka','futsal', 'volly','kesenian', 'rohis']\n",
        "jumlah = [5, 18, 30, 7, 16, 19, 12]\n",
        "c= ['red', 'green', 'blue']\n",
        "plt.title(\" jumlah mengikuti ekstakul\")\n",
        "plt.bar(mengikuti, jumlah, color= c)\n",
        "plt.show()\n",
        "\n",
        "\n",
        "\n"
      ],
      "metadata": {
        "colab": {
          "base_uri": "https://localhost:8080/",
          "height": 352
        },
        "id": "avP-e0iAliXS",
        "outputId": "21738c89-c784-45e3-997a-1b6a2aef3b65"
      },
      "execution_count": null,
      "outputs": [
        {
          "output_type": "display_data",
          "data": {
            "text/plain": [
              "<Figure size 432x288 with 1 Axes>"
            ],
            "image/png": "[encoded data removed]"
          },
          "metadata": {
            "needs_background": "light"
          }
        }
      ]
    },
    {
      "cell_type": "code",
      "source": [
        "print(\"====SOAL 2=====\")\n",
        "print(\"====mengikuti paskibra===\")\n",
        "a = 5\n",
        "b = 21\n",
        "c = 6\n",
        "\n",
        "hasil = (a + b) + ( c  )\n",
        "print(\"maka yang mengikuti paskibra  adalah = \"  +str(hasil))\n",
        "\n",
        "print(\"====mengikuti PMR===\")\n",
        "a = 18\n",
        "b = 4\n",
        "c = 12\n",
        "\n",
        "hasil = (a + b) + ( c  )\n",
        "print(\"maka yang mengikuti PMR adalah = \"  +str(hasil))\n",
        "\n",
        "print(\"====mengikuti pramuka===\")\n",
        "a = 30\n",
        "b = 8\n",
        "c = 24\n",
        "\n",
        "hasil = (a + b) + ( c  )\n",
        "print(\"maka yang mengikuti pramuka adalah = \"  +str(hasil))\n",
        "\n",
        "\n",
        "\n",
        "\n",
        "print(\"====mengikuti futsal===\")\n",
        "a = 7\n",
        "b = 29\n",
        "c = 15\n",
        "\n",
        "hasil = (a + b) + ( c  )\n",
        "print(\"maka yang mengikuti futsal adalah = \"  +str(hasil))\n",
        "\n",
        "print(\"====mengikuti volly===\")\n",
        "a = 16\n",
        "b = 10\n",
        "c = 12\n",
        "\n",
        "hasil = (a + b) + ( c  )\n",
        "print(\"maka yang mengikuti volly adalah = \"  +str(hasil))\n",
        "\n",
        "print(\"====mengikuti kesenian===\")\n",
        "a = 19\n",
        "b = 18\n",
        "c = 4\n",
        "\n",
        "hasil = (a + b) + ( c  )\n",
        "print(\"maka yang mengikuti kesenianadalah = \"  +str(hasil))\n",
        "\n",
        "print(\"====mengikuti rohis===\")\n",
        "a = 12\n",
        "b = 10\n",
        "c = 7\n",
        "\n",
        "hasil = (a + b) + ( c  )\n",
        "print(\"maka yang mengikuti rohis adalah = \"  +str(hasil))\n",
        "\n",
        "\n",
        "\n",
        "fig = plt.figure()\n",
        "ax = fig.add_axes([0,0,1,1])\n",
        "mengikuti = ['pakibra', 'PMR', 'pramuka','futsal', 'volly','kesenian', 'rohis']\n",
        "jumlah = [32, 34, 62, 51, 38, 41, 29]\n",
        "c= ['red', 'green', 'blue']\n",
        "plt.title(\"  mengikuti \")\n",
        "plt.bar(mengikuti, jumlah, color= c)\n",
        "plt.show()\n",
        "\n",
        "\n",
        "\n"
      ],
      "metadata": {
        "colab": {
          "base_uri": "https://localhost:8080/",
          "height": 612
        },
        "id": "3qtRNXOYnVZT",
        "outputId": "1c80df3d-a3ab-4916-cd2e-dcdc8ef83ce7"
      },
      "execution_count": null,
      "outputs": [
        {
          "output_type": "stream",
          "name": "stdout",
          "text": [
            "====SOAL 2=====\n",
            "====mengikuti paskibra===\n",
            "maka yang mengikuti paskibra  adalah = 32\n",
            "====mengikuti PMR===\n",
            "maka yang mengikuti PMR adalah = 34\n",
            "====mengikuti pramuka===\n",
            "maka yang mengikuti pramuka adalah = 62\n",
            "====mengikuti futsal===\n",
            "maka yang mengikuti futsal adalah = 51\n",
            "====mengikuti volly===\n",
            "maka yang mengikuti volly adalah = 38\n",
            "====mengikuti kesenian===\n",
            "maka yang mengikuti kesenianadalah = 41\n",
            "====mengikuti rohis===\n",
            "maka yang mengikuti rohis adalah = 29\n"
          ]
        },
        {
          "output_type": "display_data",
          "data": {
            "text/plain": [
              "<Figure size 432x288 with 1 Axes>"
            ],
            "image/png": "[encoded data removed]"
          },
          "metadata": {
            "needs_background": "light"
          }
        }
      ]
    },
    {
      "cell_type": "code",
      "source": [
        "print(\"====SOAL 3====\")\n",
        "\n",
        "\n",
        "print(\"==== olahraga  ===\")\n",
        "a = 16\n",
        "b = 10\n",
        "c = 12\n",
        "d = 7\n",
        "e = 29\n",
        "f = 15\n",
        "\n",
        "\n",
        "\n",
        "hasil = (a + b) + ( c + d ) + (e + f)\n",
        "print(\"maka jumlah orang yang mengikuti olahraga  adalah= \"  +str(hasil))\n",
        "\n",
        "a = 107\n",
        "b = 100\n",
        "c = 80\n",
        "d = 89\n",
        "hasil =(a + b + c )\n",
        "total = (hasil - d)\n",
        "print(\"maka jumlah orang yang mengikuti olahraga  adalah= \"  +str(hasil))\n",
        "print(\"maka jumlah orang yang mengikuti olahraga  adalah= \"  +str(total))\n",
        "\n",
        "print(\"==== mengikuti  ===\")\n",
        "a = 170\n",
        "b =  100\n",
        "c = 80\n",
        "\n",
        "\n",
        "\n",
        "\n",
        "hasil = (a + b + c )\n",
        "print(\"maka jumlah orang yang mengikuti  adalah= \"  +str(hasil))\n",
        "\n",
        "\n",
        "\n",
        "print(\"==== tidak mengikuti  ===\")\n",
        "a = 17\n",
        "b = 8\n",
        "c = 20\n",
        "\n",
        "\n",
        "\n",
        "hasil = (a + b + c)\n",
        "print(\"maka jumlah orang yang tidak mengikuti  adalah= \"  +str(hasil))\n",
        "\n",
        "\n",
        "\n",
        "import matplotlib.pyplot as plt\n",
        "fig = plt.figure()\n",
        "ax = fig.add_axes([0,0,1,1])\n",
        "ekstrakul = ['olahraga', 'mengikuti', 'tidak mengikuti']\n",
        "hasil  = [ 89,  198 , 45 ]\n",
        "c= ['red', 'green', 'blue']\n",
        "plt.title(\" mengikuti dan tidak mengingikuti\")\n",
        "plt.bar(ekstrakul, hasil, color= c)\n",
        "plt.show()\n",
        "\n",
        "print(\"===pie chart==\")\n",
        "\n",
        "fig = plt.figure()\n",
        "ax = fig.add_axes([0,0,1,1])\n",
        "ax.axis('equal')\n",
        "ekstrakul = ['olahraga', 'mengikuti', 'tidak mengikuti']\n",
        "hasil  = [ 89,  198 , 45 ]\n",
        "ax.pie(hasil,labels=ekstrakul,autopct='%1.2ff%%')\n",
        "plt.title(\"mengikuti\")\n",
        "plt.show()\n",
        "\n",
        "print(\"====presentaseu====\")\n",
        "a = 89\n",
        "b = 198 \n",
        "c  = 45\n",
        "hasil = ( a + b + c )\n",
        "print(\"maka dari hasil seluruhnya adalah =\" + str(hasil))\n",
        "pers = a * 100 / hasil\n",
        "print(\"maka dari hasil seluruhnya adalah =\"  + str(pers))\n",
        "pers = b * 100 / hasil\n",
        "print(\"maka dari hasil seluruhnya adalah =\"  + str(pers))\n",
        "pers = c * 100 / hasil\n",
        "print(\"maka dari hasil seluruhnya adalah =\"  +  str(pers))\n"
      ],
      "metadata": {
        "colab": {
          "base_uri": "https://localhost:8080/",
          "height": 930
        },
        "id": "oYads9Awqe1P",
        "outputId": "6b697f78-90dd-486d-8f82-759df667e36b"
      },
      "execution_count": null,
      "outputs": [
        {
          "output_type": "stream",
          "name": "stdout",
          "text": [
            "====SOAL 2====\n",
            "==== olahraga  ===\n",
            "maka jumlah orang yang mengikuti olahraga  adalah= 89\n",
            "maka jumlah orang yang mengikuti olahraga  adalah= 287\n",
            "maka jumlah orang yang mengikuti olahraga  adalah= 198\n",
            "==== mengikuti  ===\n",
            "maka jumlah orang yang mengikuti  adalah= 350\n",
            "==== tidak mengikuti  ===\n",
            "maka jumlah orang yang tidak mengikuti  adalah= 45\n"
          ]
        },
        {
          "output_type": "display_data",
          "data": {
            "text/plain": [
              "<Figure size 432x288 with 1 Axes>"
            ],
            "image/png": "[encoded data removed]"
          },
          "metadata": {
            "needs_background": "light"
          }
        },
        {
          "output_type": "stream",
          "name": "stdout",
          "text": [
            "===pie chart==\n"
          ]
        },
        {
          "output_type": "display_data",
          "data": {
            "text/plain": [
              "<Figure size 432x288 with 1 Axes>"
            ],
            "image/png": "[encoded data removed]"
          },
          "metadata": {}
        },
        {
          "output_type": "stream",
          "name": "stdout",
          "text": [
            "====presentaseu====\n",
            "maka dari hasil seluruhnya adalah =332\n",
            "maka dari hasil seluruhnya adalah =26.80722891566265\n",
            "maka dari hasil seluruhnya adalah =59.63855421686747\n",
            "maka dari hasil seluruhnya adalah =13.55421686746988\n"
          ]
        }
      ]
    },
    {
      "cell_type": "code",
      "source": [
        "print(\"====SOAL 4====\")\n",
        "a = 17\n",
        "b = 8\n",
        "c  = 20\n",
        "hasil = ( a + b + c )\n",
        "print(\"maka dari hasil seluruhnya adalah =\" + str(hasil))\n",
        "pers = a * 100 / hasil\n",
        "print(\"maka dari hasil seluruhnya adalah =\"  + str(pers))\n",
        "pers = b * 100 / hasil\n",
        "print(\"maka dari hasil seluruhnya adalah =\"  + str(pers))\n",
        "pers = c * 100 / hasil\n",
        "print(\"maka dari hasil seluruhnya adalah =\"  +  str(pers))\n",
        "\n",
        "\n",
        "import matplotlib.pyplot as plt\n",
        "\n",
        "\n",
        "print(\"pie chart\")\n",
        "fig = plt.figure()\n",
        "ax = fig.add_axes([0,0,1,1])\n",
        "ax.axis('equal')\n",
        "kelas = ['KELAS 10', 'KELAS 11', 'KELAS 12']\n",
        "hasil  = [ 17,  8 , 20 ]\n",
        "ax.pie(hasil,labels=kelas,autopct='%1.2ff%%')\n",
        "plt.title(\"mengikuti dan tidak mengikuti\")\n",
        "plt.show()"
      ],
      "metadata": {
        "colab": {
          "base_uri": "https://localhost:8080/",
          "height": 439
        },
        "id": "fKFTkFzGloj6",
        "outputId": "6fbc5d8e-bd18-49b5-bea9-a8d8b20b0be6"
      },
      "execution_count": null,
      "outputs": [
        {
          "output_type": "stream",
          "name": "stdout",
          "text": [
            "====SOAL 4====\n",
            "maka dari hasil seluruhnya adalah =45\n",
            "maka dari hasil seluruhnya adalah =37.77777777777778\n",
            "maka dari hasil seluruhnya adalah =17.77777777777778\n",
            "maka dari hasil seluruhnya adalah =44.44444444444444\n",
            "pie chart\n"
          ]
        },
        {
          "output_type": "display_data",
          "data": {
            "text/plain": [
              "<Figure size 432x288 with 1 Axes>"
            ],
            "image/png": "[encoded data removed]"
          },
          "metadata": {}
        }
      ]
    },
    {
      "cell_type": "code",
      "source": [
        "print(\"===SOAL 5===\")\n",
        "print(\"====mengikuti ekstrakulikuler dikelas 10===\")\n",
        "a = 5\n",
        "b = 18\n",
        "c = 30\n",
        "d = 7\n",
        "e = 16\n",
        "f = 19\n",
        "g = 12\n",
        "hasil = (a + b) + (c + d) + (e + f) + ( g )\n",
        "print(\"maka yang mengikuti ekstrakulikuler adalah = \"  +str(hasil))\n",
        "\n",
        "print(\"====mengikuti ekstrakulikuler dikelas 11===\")\n",
        "a = 21\n",
        "b = 4\n",
        "c = 8\n",
        "d = 29\n",
        "e = 10\n",
        "f = 18\n",
        "g = 10\n",
        "hasil = (a + b) + (c + d) + (e + f) + ( g )\n",
        "print(\"maka yang mengikuti ekstrakulikuler adalah = \"  +str(hasil))\n",
        "\n",
        "print(\"====mengikuti ekstrakulikuler dikelas 12===\")\n",
        "a = 6\n",
        "b = 12\n",
        "c = 24\n",
        "d = 15\n",
        "e = 12\n",
        "f = 4\n",
        "g = 7\n",
        "hasil = (a + b) + (c + d) + (e + f) + ( g )\n",
        "print(\"maka yang mengikuti ekstrakulikuler adalah = \"  +str(hasil))\n",
        "\n",
        "import matplotlib.pyplot as plt\n",
        "fig = plt.figure()\n",
        "ax = fig.add_axes([0,0,1,1])\n",
        "ekstrakul = ['olahraga', 'mengikuti', 'tidak mengikuti']\n",
        "hasil  = [ 107,  100 , 80 ]\n",
        "c= ['red', 'green', 'blue']\n",
        "plt.title(\" mengikuti dan tidak mengingikuti\")\n",
        "plt.bar(ekstrakul, hasil, color= c)\n",
        "plt.show()\n",
        "\n",
        "print(\"===pie chart==\")\n",
        "\n",
        "fig = plt.figure()\n",
        "ax = fig.add_axes([0,0,1,1])\n",
        "ax.axis('equal')\n",
        "ekstrakul = ['kelas 10', 'kelas 11', 'kelas 12']\n",
        "hasil  = [ 107,  100 , 80 ]\n",
        "ax.pie(hasil,labels=ekstrakul,autopct='%1.2ff%%')\n",
        "plt.title(\"mengikuti\")\n",
        "plt.show()"
      ],
      "metadata": {
        "colab": {
          "base_uri": "https://localhost:8080/",
          "height": 809
        },
        "id": "9Oc9JDV9oLTN",
        "outputId": "1b1c8fd0-0e80-4912-8d98-e835446d07f3"
      },
      "execution_count": null,
      "outputs": [
        {
          "output_type": "stream",
          "name": "stdout",
          "text": [
            "===SOAL 5===\n",
            "====mengikuti ekstrakulikuler dikelas 10===\n",
            "maka yang mengikuti ekstrakulikuler adalah = 107\n",
            "====mengikuti ekstrakulikuler dikelas 11===\n",
            "maka yang mengikuti ekstrakulikuler adalah = 100\n",
            "====mengikuti ekstrakulikuler dikelas 12===\n",
            "maka yang mengikuti ekstrakulikuler adalah = 80\n"
          ]
        },
        {
          "output_type": "display_data",
          "data": {
            "text/plain": [
              "<Figure size 432x288 with 1 Axes>"
            ],
            "image/png": "[encoded data removed]"
          },
          "metadata": {
            "needs_background": "light"
          }
        },
        {
          "output_type": "stream",
          "name": "stdout",
          "text": [
            "===pie chart==\n"
          ]
        },
        {
          "output_type": "display_data",
          "data": {
            "text/plain": [
              "<Figure size 432x288 with 1 Axes>"
            ],
            "image/png": "[encoded data removed]"
          },
          "metadata": {}
        }
      ]
    }
  ]
}