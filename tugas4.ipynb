{
  "nbformat": 4,
  "nbformat_minor": 0,
  "metadata": {
    "colab": {
      "provenance": []
    },
    "kernelspec": {
      "name": "python3",
      "display_name": "Python 3"
    },
    "language_info": {
      "name": "python"
    }
  },
  "cells": [
    {
      "cell_type": "code",
      "execution_count": null,
      "metadata": {
        "id": "LoLmHubhRd8V"
      },
      "outputs": [],
      "source": [
        "import statistics\n",
        "import pandas as pd\n",
        "import numpy as np\n",
        "from scipy import stats \n"
      ]
    },
    {
      "cell_type": "code",
      "source": [
        "print(\"=== SOAL 1====\")\n",
        "Burger = 6 \n",
        "Pizza = 3\n",
        "dimsum = 4\n",
        "Ekkado = 4\n",
        "milkshake = 2\n",
        "Eskrim = 5\n",
        "hasil = (Burger + Pizza + dimsum + Ekkado + milkshake + Eskrim  ) \n",
        "total =(Burger * 24000) + (Pizza * 52000) + (dimsum * 30000) + (Ekkado * 7500) + (milkshake * 10000) + (Eskrim * 15000)\n",
        "print(\"maka jumlah semua pesanan= \"  +str(hasil))\n",
        "print(\"maka jumlah semua harga pesanan= \"  +str(total))\n",
        "print(\"=== SOAL 2====\")\n",
        "\n",
        "p_Burger = Burger /24\n",
        "print(\" perasentaseu burger adalah= \" +str(p_Burger))\n",
        "\n",
        "p_Pizza = Pizza /24\n",
        "print(\" perasentaseu Pizza adalah= \" +str(p_Pizza))\n",
        "\n",
        "p_dimsum = dimsum /24\n",
        "print(\" perasentaseu dimsum adalah= \" +str(p_dimsum))\n",
        "\n",
        "p_Ekkado = Ekkado /24\n",
        "print(\" perasentaseu Ekkado adalah= \" +str(p_Ekkado))\n",
        "\n",
        "p_milkhake= milkshake /24\n",
        "print(\" perasentaseu milkhake adalah= \" +str(p_milkhake))\n",
        "\n",
        "p_Eskrim= Eskrim /24\n",
        "print(\" perasentaseu Eskrim adalah= \" +str(p_Eskrim))\n",
        "\n",
        "\n"
      ],
      "metadata": {
        "id": "ae15ITTeRvN6",
        "colab": {
          "base_uri": "https://localhost:8080/"
        },
        "outputId": "62509eba-9299-4103-fe2b-266bc43d4ac1"
      },
      "execution_count": null,
      "outputs": [
        {
          "output_type": "stream",
          "name": "stdout",
          "text": [
            "=== SOAL 1====\n",
            "maka jumlah semua pesanan= 24\n",
            "maka jumlah semua harga pesanan= 545000\n",
            "=== SOAL 2====\n",
            " perasentaseu burger adalah= 0.25\n",
            " perasentaseu Pizza adalah= 0.125\n",
            " perasentaseu dimsum adalah= 0.16666666666666666\n",
            " perasentaseu Ekkado adalah= 0.16666666666666666\n",
            " perasentaseu milkhake adalah= 0.08333333333333333\n",
            " perasentaseu Eskrim adalah= 0.20833333333333334\n"
          ]
        }
      ]
    },
    {
      "cell_type": "code",
      "source": [
        "import matplotlib.pyplot as plt\n",
        "# pe chart\n",
        "fig = plt.figure()\n",
        "ax = fig.add_axes([0,0,1,1])\n",
        "ax.axis('equal')\n",
        "nama =['Burger', 'Pizza', 'dimsum', 'Ekkado','milkshake', 'Eskrim']\n",
        "hasil =[0.25, 0.125, 0.16666666666666666, 0.16666666666666666, 0.08333333333333333, 0.20833333333333334]\n",
        "c= ['red', 'green', 'blue']\n",
        "ax.pie(hasil,labels=nama,autopct='%1.2ff%%')\n",
        "plt.title(\"\")\n",
        "plt.show()"
      ],
      "metadata": {
        "colab": {
          "base_uri": "https://localhost:8080/",
          "height": 319
        },
        "id": "6g0UAwBVd6FD",
        "outputId": "3d4e68e1-3577-484f-a57a-979abe15e640"
      },
      "execution_count": null,
      "outputs": [
        {
          "output_type": "display_data",
          "data": {
            "text/plain": [
              "<Figure size 432x288 with 1 Axes>"
            ],
            "image/png": "[encoded data removed]"
          },
          "metadata": {}
        }
      ]
    },
    {
      "cell_type": "code",
      "source": [
        "print(\"==== soal 4=====\")\n",
        "Burger = 4\n",
        "pizza = 2\n",
        "ahmad  = (0.30 * ((Burger * 24000) + (pizza * 52000))) +   5000  \n",
        "print(\"maka total belanjaan ahmad adalah= \"  +str(ahmad))\n",
        "Dimsum = 3\n",
        "ESkrim = 1\n",
        "milkshake =2\n",
        "beni  = (0.30  * ((Dimsum * 30000) + (ESkrim  * 15000) + (milkshake * 10000))) +  5000  \n",
        "print(\"maka total belanjaan beni adalah= \"  +str(beni))\n",
        "ESkrim = 3\n",
        "citra  = (0.30 * ((ESkrim  * 15000 ))) + 5000  \n",
        "print(\"maka total belanjaan citra adalah= \"  +str(citra))\n",
        "Burger = 2\n",
        "Dimsum = 1 \n",
        "Dadang  = (0.30 * ((Burger  *  24000) + (Dimsum * 30000))) +  5000  \n",
        "print(\"maka total belanjaan Dadang adalah= \"  +str(Dadang))\n",
        "Ekkado = 4\n",
        "Eskrim = 1\n",
        "Pizza = 1\n",
        "Epen  = (0.30 * ((Ekkado *  7500) + (Pizza * 52000)  + (Eskrim * 15000 ))) +  5000  \n",
        "print(\"maka total belanjaan Epen adalah= \"  +str(Epen))\n",
        "hasil = 100000 - Epen\n"
      ],
      "metadata": {
        "id": "ukH0VtRQfJOe",
        "colab": {
          "base_uri": "https://localhost:8080/"
        },
        "outputId": "020123d5-c1f1-44dc-8f9e-7318874dec60"
      },
      "execution_count": null,
      "outputs": [
        {
          "output_type": "stream",
          "name": "stdout",
          "text": [
            "==== soal 4=====\n",
            "maka total belanjaan ahmad adalah= 65000.0\n",
            "maka total belanjaan beni adalah= 42500.0\n",
            "maka total belanjaan citra adalah= 18500.0\n",
            "maka total belanjaan Dadang adalah= 28400.0\n",
            "maka total belanjaan Epen adalah= 34100.0\n"
          ]
        }
      ]
    },
    {
      "cell_type": "code",
      "source": [
        "print(\"====soal 5====\")\n",
        "jarak_a = 7.5 \n",
        "ongkir_a = 2000\n",
        "jarak_b = 4 \n",
        "ongkir_b = 1800\n",
        "jarak_c = 8\n",
        "ongkir_c = 2000\n",
        "jarak_d = 5 \n",
        "ongkir_d =1800\n",
        "jarak_e = 12\n",
        "ongkir_e =2200\n",
        "hasil=(jarak_a * ongkir_a) + (jarak_b * ongkir_b) + (jarak_c * ongkir_c) + (jarak_d * ongkir_d) +(jarak_e * ongkir_e)\n",
        "print(\"maka total belanjaan ahmad adalah= \"  +str(hasil))\n"
      ],
      "metadata": {
        "id": "OUoR8s75xqH7",
        "outputId": "49d29414-282a-494b-d882-19872bc32782",
        "colab": {
          "base_uri": "https://localhost:8080/"
        }
      },
      "execution_count": null,
      "outputs": [
        {
          "output_type": "stream",
          "name": "stdout",
          "text": [
            "====soal 5====\n",
            "maka total belanjaan ahmad adalah= 73600.0\n"
          ]
        }
      ]
    },
    {
      "cell_type": "code",
      "source": [
        "print(\"====soal 3====\")\n",
        "Burger = 4\n",
        "pizza = 2\n",
        "ahmad  = (0.70 * ((Burger * 24000) + (pizza * 52000))) + (7.5 * 2000) - 5000  \n",
        "print(\"maka total belanjaan ahmad adalah= \"  +str(ahmad))\n",
        "hasil =200000 - ahmad\n",
        "print(\"total potongan ahmad adalah= \"  +str(hasil))\n",
        "Dimsum = 3\n",
        "ESkrim = 1\n",
        "milkshake =2\n",
        "beni  = (0.70  * ((Dimsum * 30000) + (ESkrim  * 15000) + (milkshake * 10000))) + (4 * 1800) - 5000  \n",
        "print(\"maka total belanjaan beni adalah= \"  +str(beni))\n",
        "hasil =150000 - beni\n",
        "print(\"total potongan beni adalah= \"  +str(hasil))\n",
        "ESkrim = 3\n",
        "citra  = (+ ((ESkrim  * 15000 ))) + (8 * 2000) - 5000  \n",
        "print(\"maka total belanjaan citra adalah= \"  +str(citra))\n",
        "hasil =60000 - citra\n",
        "print(\"total potongan citra adalah= \"  +str(hasil))\n",
        "Burger = 2\n",
        "Dimsum = 1 \n",
        "Dadang  = (0.80 * ((Burger  *  24000) + (Dimsum * 30000))) + (5 * 1800) - 5000  \n",
        "print(\"maka total belanjaan Dadang adalah= \"  +str(Dadang))\n",
        "hasil =100000 - Dadang\n",
        "print(\"total potongan Dadang adalah= \"  +str(hasil))\n",
        "Ekkado = 4\n",
        "Eskrim = 1\n",
        "Pizza = 1\n",
        "Epen  = (0.70* ((Ekkado *  7500) + (Pizza * 52000)  + (Eskrim * 15000 ))) + (12 * 2200) - 5000  \n",
        "print(\"maka total belanjaan Epen adalah= \"  +str(Epen))\n",
        "hasil = 100000 - Epen\n",
        "print(\"total potongan Epen adalah= \"  +str(hasil))\n"
      ],
      "metadata": {
        "colab": {
          "base_uri": "https://localhost:8080/"
        },
        "id": "irfs9W5jhpsi",
        "outputId": "b6732625-63c7-48bf-8418-3c7b34daa66f"
      },
      "execution_count": null,
      "outputs": [
        {
          "output_type": "stream",
          "name": "stdout",
          "text": [
            "====soal 3====\n",
            "maka total belanjaan ahmad adalah= 150000.0\n",
            "total potongan ahmad adalah= 50000.0\n",
            "maka total belanjaan beni adalah= 89700.0\n",
            "total potongan beni adalah= 60300.0\n",
            "maka total belanjaan citra adalah= 56000\n",
            "total potongan citra adalah= 4000\n",
            "maka total belanjaan Dadang adalah= 66400.0\n",
            "total potongan Dadang adalah= 33600.0\n",
            "maka total belanjaan Epen adalah= 89300.0\n",
            "total potongan Epen adalah= 10700.0\n"
          ]
        }
      ]
    }
  ]
}